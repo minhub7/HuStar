{
 "cells": [
  {
   "cell_type": "code",
   "execution_count": 2,
   "id": "5f493765",
   "metadata": {
    "scrolled": true
   },
   "outputs": [
    {
     "name": "stdout",
     "output_type": "stream",
     "text": [
      "양의 정수 입력: 6\n",
      "참\n"
     ]
    }
   ],
   "source": [
    "#Lab03-2_1 2 또는 3의 배수 찾기\n",
    "\n",
    "n = int(input(\"양의 정수 입력: \"))\n",
    "\n",
    "if n%2 == 0 or n%3 == 0:\n",
    "    print(\"참\")\n",
    "else:\n",
    "    print(\"거짓\")"
   ]
  },
  {
   "cell_type": "code",
   "execution_count": 9,
   "id": "e92d0cd2",
   "metadata": {},
   "outputs": [
    {
     "name": "stdout",
     "output_type": "stream",
     "text": [
      "키(cm) 입력: 175\n",
      "몸무게(kg) 입력: 78\n",
      "비만도(BMI): 25.5로 경도비만입니다.\n"
     ]
    }
   ],
   "source": [
    "#Lab03-2_2 BMI 측정\n",
    "\n",
    "height = float(input(\"키(cm) 입력: \"))\n",
    "weight = float(input(\"몸무게(kg) 입력: \"))\n",
    "\n",
    "BMI = weight/(height**2)*10000\n",
    "\n",
    "if BMI >= 30:\n",
    "    print(f\"비만도(BMI): {BMI:.1f}로 비만입니다.\")\n",
    "elif BMI >= 25:\n",
    "    print(f\"비만도(BMI): {BMI:.1f}로 경도비만입니다.\")\n",
    "elif BMI >= 23:\n",
    "    print(f\"비만도(BMI): {BMI:.1f}로 과체중입니다.\")\n",
    "elif BMI >= 18.5:\n",
    "    print(f\"비만도(BMI): {BMI:.1f}로 정상체중입니다.\")\n",
    "else:\n",
    "    print(f\"비만도(BMI): {BMI:.1f}로 저체중입니다.\")"
   ]
  },
  {
   "cell_type": "code",
   "execution_count": 19,
   "id": "46cb9bfe",
   "metadata": {
    "scrolled": true
   },
   "outputs": [
    {
     "name": "stdout",
     "output_type": "stream",
     "text": [
      "양의 정수 입력: 6\n",
      "1\n",
      "2\n",
      "3\n",
      "6\n",
      "6의 약수의 개수: 4\n"
     ]
    }
   ],
   "source": [
    "#LAB03-2_3 약수 구하기\n",
    "n = int(input(\"양의 정수 입력: \"))\n",
    "\n",
    "divisor = []\n",
    "for i in range(1,n+1):\n",
    "    if n%i == 0:\n",
    "        divisor.append(i)\n",
    "        print(i)\n",
    "\n",
    "print(f\"{n}의 약수의 개수: {len(divisor)}\")"
   ]
  },
  {
   "cell_type": "code",
   "execution_count": 24,
   "id": "29fff6e1",
   "metadata": {},
   "outputs": [
    {
     "name": "stdout",
     "output_type": "stream",
     "text": [
      "양의 정수 입력: 123145\n",
      "541321\n"
     ]
    }
   ],
   "source": [
    "#LAB03-2_4 정수 뒤집기\n",
    "\n",
    "n = input(\"양의 정수 입력: \")\n",
    "\n",
    "print(n[-1::-1])"
   ]
  },
  {
   "cell_type": "code",
   "execution_count": 25,
   "id": "09aa3db3",
   "metadata": {
    "scrolled": false
   },
   "outputs": [
    {
     "name": "stdout",
     "output_type": "stream",
     "text": [
      "양의 정수 입력: 12345\n",
      "15\n"
     ]
    }
   ],
   "source": [
    "#LAB03-2_5 자릿수 더하기\n",
    "n = input(\"양의 정수 입력: \")\n",
    "total = 0\n",
    "for i in n:\n",
    "    total += int(i)\n",
    "\n",
    "print(total)"
   ]
  },
  {
   "cell_type": "code",
   "execution_count": 26,
   "id": "eb3a5f5e",
   "metadata": {},
   "outputs": [
    {
     "name": "stdout",
     "output_type": "stream",
     "text": [
      "짝수의 합: 206\n"
     ]
    }
   ],
   "source": [
    "#LAB03-2_6 짝수합 구하기\n",
    "\n",
    "num_list = [30,41,12,90,74,15]\n",
    "total = 0\n",
    "for n in num_list:\n",
    "    if n%2 == 0:\n",
    "        total += n\n",
    "print(f\"짝수의 합: {total}\")"
   ]
  },
  {
   "cell_type": "code",
   "execution_count": 27,
   "id": "b3f42a7f",
   "metadata": {},
   "outputs": [
    {
     "name": "stdout",
     "output_type": "stream",
     "text": [
      "최대값: 90\n"
     ]
    }
   ],
   "source": [
    "#LAB03-2_7 최대값 구하기\n",
    "\n",
    "num_list = [30,41,12,90,74,15]\n",
    "max_value = num_list[0]\n",
    "for n in num_list[1:]:\n",
    "    if max_value < n:\n",
    "        max_value = n\n",
    "\n",
    "print(f\"최대값: {max_value}\")"
   ]
  },
  {
   "cell_type": "code",
   "execution_count": 29,
   "id": "55935b9a",
   "metadata": {},
   "outputs": [
    {
     "name": "stdout",
     "output_type": "stream",
     "text": [
      "수강생 이름 입력: 호랑이\n",
      "프로그래밍 수강생이 아닙니다.\n"
     ]
    }
   ],
   "source": [
    "#LAB03-2_8 수강생 찾기\n",
    "\n",
    "names = ['포닉스', '넙죽이', '클로바', '톡수리']\n",
    "\n",
    "name = input(\"수강생 이름 입력: \")\n",
    "\n",
    "if name in names:\n",
    "    print(\"프로그래밍 수강생입니다.\")\n",
    "else:\n",
    "    print(\"프로그래밍 수강생이 아닙니다.\")"
   ]
  },
  {
   "cell_type": "code",
   "execution_count": 1,
   "id": "d5d977af",
   "metadata": {},
   "outputs": [
    {
     "name": "stdout",
     "output_type": "stream",
     "text": [
      "채울 음료 이름 입력: 생수\n",
      "추가할 개수 입력: 3\n",
      "{'커피': 5, '콜라': 3, '생수': 5, '비타민워터': 1}\n"
     ]
    }
   ],
   "source": [
    "#LAB03-2_9 자판기 재고관리\n",
    "\n",
    "items = {'커피':5, '콜라':3, '생수':2, '비타민워터':1}\n",
    "item = input(\"채울 음료 이름 입력: \")\n",
    "\n",
    "if item in items.keys():\n",
    "    n = int(input(\"추가할 개수 입력: \"))\n",
    "    items[item] += n\n",
    "    print(items)\n",
    "else:\n",
    "    print(\"자판기 목록에 없는 음료입니다.\")"
   ]
  }
 ],
 "metadata": {
  "kernelspec": {
   "display_name": "Python 3 (ipykernel)",
   "language": "python",
   "name": "python3"
  },
  "language_info": {
   "codemirror_mode": {
    "name": "ipython",
    "version": 3
   },
   "file_extension": ".py",
   "mimetype": "text/x-python",
   "name": "python",
   "nbconvert_exporter": "python",
   "pygments_lexer": "ipython3",
   "version": "3.9.7"
  }
 },
 "nbformat": 4,
 "nbformat_minor": 5
}
