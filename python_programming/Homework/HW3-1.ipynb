{
 "cells": [
  {
   "cell_type": "code",
   "execution_count": 33,
   "id": "82cf170d",
   "metadata": {},
   "outputs": [
    {
     "name": "stdout",
     "output_type": "stream",
     "text": [
      "Input an integer: 3159\n",
      "★★★\n",
      "★\n",
      "★★★★★\n",
      "★★★★★★★★★\n"
     ]
    }
   ],
   "source": [
    "#LAB02-11 별표 출력\n",
    "\n",
    "num_list = input(\"Input an integer: \")\n",
    "\n",
    "for i in num_list:\n",
    "    print(\"★\"*int(i))"
   ]
  },
  {
   "cell_type": "code",
   "execution_count": 35,
   "id": "51a3d4e5",
   "metadata": {},
   "outputs": [
    {
     "name": "stdout",
     "output_type": "stream",
     "text": [
      "Enter a number: 7\n",
      "Enter a number: 2\n",
      "Enter a number: 9\n",
      "Enter a number: 3\n",
      "Enter a number: 5\n",
      "Enter a number: done\n",
      "Average: 5.2\n",
      "Maximum: 9.0\n",
      "Minimum: 2.0\n"
     ]
    }
   ],
   "source": [
    "#LAB02-16 평균, 최대, 최소 출력\n",
    "L_num = []\n",
    "\n",
    "while True:\n",
    "    n = input(\"Enter a number: \")\n",
    "    if n == 'done':\n",
    "        break\n",
    "    \n",
    "    L_num.append(float(n))\n",
    "\n",
    "print(f\"Average: {sum(L_num)/len(L_num)}\")\n",
    "print(f\"Maximum: {max(L_num)}\")\n",
    "print(f\"Minimum: {min(L_num)}\")"
   ]
  },
  {
   "cell_type": "code",
   "execution_count": 15,
   "id": "50f2e934",
   "metadata": {},
   "outputs": [
    {
     "name": "stdout",
     "output_type": "stream",
     "text": [
      "1 2 10 "
     ]
    }
   ],
   "source": [
    "#LAB03-1 딕셔너리\n",
    "\n",
    "d = {'youn':1, 'park':2, 'kim':10}\n",
    "for i in d.values():\n",
    "    print(i, end=' ')"
   ]
  },
  {
   "cell_type": "code",
   "execution_count": 18,
   "id": "ea9298fb",
   "metadata": {},
   "outputs": [
    {
     "name": "stdout",
     "output_type": "stream",
     "text": [
      "five 5\n",
      "four 4\n",
      "one 1\n",
      "three 3\n",
      "two 2\n"
     ]
    }
   ],
   "source": [
    "#LAB03-2 알파벳 순서 출력\n",
    "\n",
    "d = {'one':1, 'two':2, 'three':3, 'four':4, 'five':5}\n",
    "for i in sorted(list(d.keys())):\n",
    "    print(i, d[i])"
   ]
  },
  {
   "cell_type": "code",
   "execution_count": 32,
   "id": "7193f9bf",
   "metadata": {},
   "outputs": [
    {
     "name": "stdout",
     "output_type": "stream",
     "text": [
      "Enter a sentence: Python is fun!\n",
      "{'P': 1, 'h': 1, 's': 1, 'y': 1, ' ': 2, 'n': 2, 'f': 1, 't': 1, '!': 1, 'u': 1, 'o': 1, 'i': 1}\n"
     ]
    }
   ],
   "source": [
    "#LAB03-3 문자 갯수 출력\n",
    "d = dict()\n",
    "sen = input(\"Enter a sentence: \")\n",
    "\n",
    "for s in set(sen):\n",
    "    d[s] = sen.count(s)\n",
    "\n",
    "print(d)"
   ]
  },
  {
   "cell_type": "code",
   "execution_count": 24,
   "id": "11034b7d",
   "metadata": {},
   "outputs": [
    {
     "name": "stdout",
     "output_type": "stream",
     "text": [
      "Highest: 150\n",
      "Lowest: 20\n",
      "Average: 81.0\n"
     ]
    }
   ],
   "source": [
    "#LAB03-4 최고, 최저, 평균 출력\n",
    "\n",
    "score = {'iu':100, 'heize':70, 'zico':65, 'ailee':150, 'rain':20}\n",
    "\n",
    "print(f\"Highest: {max(score.values())}\")\n",
    "print(f\"Lowest: {min(score.values())}\")\n",
    "print(f\"Average: {sum(score.values())/len(score)}\")"
   ]
  }
 ],
 "metadata": {
  "kernelspec": {
   "display_name": "Python 3 (ipykernel)",
   "language": "python",
   "name": "python3"
  },
  "language_info": {
   "codemirror_mode": {
    "name": "ipython",
    "version": 3
   },
   "file_extension": ".py",
   "mimetype": "text/x-python",
   "name": "python",
   "nbconvert_exporter": "python",
   "pygments_lexer": "ipython3",
   "version": "3.9.7"
  }
 },
 "nbformat": 4,
 "nbformat_minor": 5
}
