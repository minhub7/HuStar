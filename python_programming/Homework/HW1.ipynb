{
 "cells": [
  {
   "cell_type": "markdown",
   "id": "51bcdde2",
   "metadata": {},
   "source": [
    "## 22.03.30 (수) LAB"
   ]
  },
  {
   "cell_type": "code",
   "execution_count": 11,
   "id": "55e9939f",
   "metadata": {},
   "outputs": [
    {
     "name": "stdout",
     "output_type": "stream",
     "text": [
      "화씨온도: 100\n",
      "섭씨온도: 37.77777777777778\n"
     ]
    }
   ],
   "source": [
    "# LAB 1.1 화씨온도 -> 섭씨온도 변환 프로그램\n",
    "\n",
    "F = float(input(\"화씨온도: \"))\n",
    "C = (F-32)*5/9\n",
    "print(f\"섭씨온도: {C}\")"
   ]
  },
  {
   "cell_type": "code",
   "execution_count": 1,
   "id": "adf1df6b",
   "metadata": {},
   "outputs": [
    {
     "name": "stdout",
     "output_type": "stream",
     "text": [
      "투입한 돈: 5000\n",
      "물건 값: 2700\n",
      "거스름돈: 2300 \n",
      "500원짜리: 4개 \n",
      "100원짜리: 3개\n"
     ]
    }
   ],
   "source": [
    "# LAB 1.2 투입된 돈과 물건 값으로 잔돈 계산하기 프로그램\n",
    "#          동전의 개수는 최소화\n",
    "money = int(input(\"투입한 돈: \"))\n",
    "price = int(input(\"물건 값: \"))\n",
    "change = money - price\n",
    "print(f\"거스름돈: {change} \\n500원짜리: {change//500}개 \\n100원짜리: {change%500//100}개\")"
   ]
  },
  {
   "cell_type": "code",
   "execution_count": 7,
   "id": "404aedc8",
   "metadata": {},
   "outputs": [
    {
     "name": "stdout",
     "output_type": "stream",
     "text": [
      "반지름을 입력하시오: 5\n",
      "원 둘레: 31.42\n",
      "원 넓이: 78.54\n"
     ]
    }
   ],
   "source": [
    "# LAB 1.3 원 둘레와 넓이 구하기 프로그램\n",
    "pi = 3.141592\n",
    "\n",
    "r = int(input(\"반지름을 입력하시오: \"))\n",
    "l = 2*pi*r\n",
    "v = pi*r**2\n",
    "\n",
    "print(f\"원 둘레: {l:.2f}\")\n",
    "print(f\"원 넓이: {v:.2f}\")"
   ]
  },
  {
   "cell_type": "code",
   "execution_count": 8,
   "id": "31078769",
   "metadata": {},
   "outputs": [
    {
     "name": "stdout",
     "output_type": "stream",
     "text": [
      "Enter two integers: 8 5\n",
      "8 + 5 = 13\n",
      "8 - 5 = 3\n",
      "8 * 5 = 40\n",
      "8 / 5 = 1.6\n",
      "8 % 5 = 3\n"
     ]
    }
   ],
   "source": [
    "# LAB 1.4 2개의 정수로 사칙연산 및 나머지 결과 출력하기\n",
    "\n",
    "n1, n2 = map(int, input(\"Enter two integers: \").split())\n",
    "\n",
    "print(f\"{n1} + {n2} = {n1+n2}\")\n",
    "print(f\"{n1} - {n2} = {n1-n2}\")\n",
    "print(f\"{n1} * {n2} = {n1*n2}\")\n",
    "print(f\"{n1} / {n2} = {n1/n2}\")\n",
    "print(f\"{n1} % {n2} = {n1%n2}\")"
   ]
  },
  {
   "cell_type": "code",
   "execution_count": 9,
   "id": "c070df65",
   "metadata": {},
   "outputs": [
    {
     "name": "stdout",
     "output_type": "stream",
     "text": [
      "Enter two integers: 70 91\n",
      "The sum of 70 and 91 is 161\n",
      "The average of numbers is 80.5\n"
     ]
    }
   ],
   "source": [
    "# LAB 1.5 두 정수의 합과 평균\n",
    "\n",
    "n1, n2 = map(int, input(\"Enter two integers: \").split())\n",
    "print(f\"The sum of {n1} and {n2} is {n1+n2}\")\n",
    "print(f\"The average of numbers is {(n1+n2)/2}\")"
   ]
  },
  {
   "cell_type": "code",
   "execution_count": 10,
   "id": "09af560e",
   "metadata": {},
   "outputs": [
    {
     "name": "stdout",
     "output_type": "stream",
     "text": [
      "날짜(연/월/일) 입력: 2022/3/29\n",
      "입력한 날짜의 10년 후는 2032년 3월 29일 입니다.\n"
     ]
    }
   ],
   "source": [
    "# LAB 1.6: 실행예제 참고 프로그램 구현\n",
    "\n",
    "y,m,d = map(int, input(\"날짜(연/월/일) 입력: \").split(\"/\"))\n",
    "print(f\"입력한 날짜의 10년 후는 {y+10}년 {m}월 {d}일 입니다.\")"
   ]
  }
 ],
 "metadata": {
  "kernelspec": {
   "display_name": "Python 3 (ipykernel)",
   "language": "python",
   "name": "python3"
  },
  "language_info": {
   "codemirror_mode": {
    "name": "ipython",
    "version": 3
   },
   "file_extension": ".py",
   "mimetype": "text/x-python",
   "name": "python",
   "nbconvert_exporter": "python",
   "pygments_lexer": "ipython3",
   "version": "3.9.7"
  }
 },
 "nbformat": 4,
 "nbformat_minor": 5
}
