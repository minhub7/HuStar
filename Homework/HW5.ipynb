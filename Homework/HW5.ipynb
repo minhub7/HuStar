{
 "cells": [
  {
   "cell_type": "code",
   "execution_count": 40,
   "id": "9623d401",
   "metadata": {
    "scrolled": true
   },
   "outputs": [
    {
     "name": "stdout",
     "output_type": "stream",
     "text": [
      "(1.5, 1.5) (7.5, 5.5) (4.140000000000001, 2.72)\n"
     ]
    }
   ],
   "source": [
    "#HW5-4 2차원 벡터 덧셈\n",
    "def vector_sum(vector, *vectors):\n",
    "    v1, v2 = vector\n",
    "    for v in vectors:\n",
    "        v1 += v[0]\n",
    "        v2 += v[1]\n",
    "    return v1, v2\n",
    "\n",
    "def main():\n",
    "    v1 = [0,1]\n",
    "    v2 = [0.5, 0.5]\n",
    "    v3 = [1,0]\n",
    "    v4 = [6,4]\n",
    "    v5 = [3.14, 2.72]\n",
    "\n",
    "    m1 = vector_sum(v1,v2,v3)\n",
    "    m2 = vector_sum(v1,v2,v3,v4)\n",
    "    m3 = vector_sum(v3,v5)\n",
    "\n",
    "    print(m1, m2, m3)\n",
    "\n",
    "if __name__ == '__main__':\n",
    "    main()"
   ]
  },
  {
   "cell_type": "code",
   "execution_count": 39,
   "id": "a23e8f72",
   "metadata": {
    "scrolled": true
   },
   "outputs": [
    {
     "name": "stdout",
     "output_type": "stream",
     "text": [
      "[1, 1, 2, 2, 3, 5, 9]\n",
      "[0, 4, 6, 9]\n",
      "[0, 0]\n"
     ]
    }
   ],
   "source": [
    "#HW5-5 병합 정렬\n",
    "def merge_list(L1=[0], L2=[0]):\n",
    "    return sorted(L1+L2)\n",
    "    \n",
    "def main():\n",
    "    L = [3,5,9,1,2]\n",
    "    ml1 = merge_list(L, [2,1])\n",
    "    ml2 = merge_list([6,9,4])\n",
    "    ml3 = merge_list()\n",
    "\n",
    "    print(ml1)\n",
    "    print(ml2)\n",
    "    print(ml3)\n",
    "\n",
    "if __name__ == '__main__':\n",
    "    main()"
   ]
  },
  {
   "cell_type": "code",
   "execution_count": 26,
   "id": "30fec06f",
   "metadata": {
    "scrolled": true
   },
   "outputs": [
    {
     "name": "stdout",
     "output_type": "stream",
     "text": [
      "** 로또 번호 자동 기입을 시작합니다. **\n",
      "1번째 자동 기입 ==>  23 27 31 32 40 42\n",
      "2번째 자동 기입 ==>  9 15 23 27 29 36\n",
      "3번째 자동 기입 ==>  10 13 23 26 28 36\n",
      "4번째 자동 기입 ==>  3 7 8 11 23 25\n",
      "5번째 자동 기입 ==>  1 14 17 23 26 42\n"
     ]
    }
   ],
   "source": [
    "#HW5-6 로또 번호 자동 기입\n",
    "import random as rd\n",
    "\n",
    "def main():\n",
    "    lotto = rd.sample(range(1,46), 6)\n",
    "    print(\"** 로또 번호 자동 기입을 시작합니다. **\")\n",
    "    \n",
    "    for i in range(5):\n",
    "        lotto = sorted(rd.sample(range(1,46), 6))\n",
    "        print(f\"{i+1}번째 자동 기입 ==> \", *lotto)\n",
    "\n",
    "if __name__ == '__main__':\n",
    "    main()"
   ]
  },
  {
   "cell_type": "code",
   "execution_count": 23,
   "id": "65bc4ab6",
   "metadata": {},
   "outputs": [
    {
     "name": "stdout",
     "output_type": "stream",
     "text": [
      "1\n",
      "9\n",
      "[3, 5, 2]\n"
     ]
    }
   ],
   "source": [
    "#HW5-7 최대, 최소 반환 및 리스트에서 제거\n",
    "def get_min_max(l):\n",
    "    min_val = min(l)\n",
    "    max_val = max(l)\n",
    "    l.remove(min_val)\n",
    "    l.remove(max_val)\n",
    "    \n",
    "    return min_val, max_val\n",
    "    \n",
    "def main():\n",
    "    l = [3,5,9,1,2]\n",
    "    min_val, max_val = get_min_max(l)\n",
    "\n",
    "    print(min_val)\n",
    "    print(max_val)\n",
    "    print(l)\n",
    "    \n",
    "if __name__ == '__main__':\n",
    "    main()"
   ]
  },
  {
   "cell_type": "code",
   "execution_count": 36,
   "id": "5d068414",
   "metadata": {},
   "outputs": [
    {
     "name": "stdout",
     "output_type": "stream",
     "text": [
      "{'a': 3, 'b': 3, 'd': 7, 'e': 9, 'c': 4}\n"
     ]
    }
   ],
   "source": [
    "#HW5-8 딕셔너리 더하기\n",
    "import copy\n",
    "def comb_dict(d1, d2):\n",
    "    new_dic = copy.deepcopy(d1)\n",
    "    \n",
    "    for key, d in d2.items():\n",
    "        if key in d1:\n",
    "            new_dic[key] = d1[key] + d2[key]\n",
    "        else:\n",
    "            new_dic[key] = d\n",
    "            \n",
    "    return new_dic\n",
    "    \n",
    "def main():\n",
    "    d1 = {'a':1, 'b':3, 'd':7, 'e':8}\n",
    "    d2 = {'a':2, 'c':4, 'e':1}\n",
    "    d3 = comb_dict(d1, d2)\n",
    "    \n",
    "    print(d3)\n",
    "    \n",
    "\n",
    "if __name__ == '__main__':\n",
    "    main()"
   ]
  },
  {
   "cell_type": "code",
   "execution_count": 38,
   "id": "32d5fa0f",
   "metadata": {},
   "outputs": [
    {
     "name": "stdout",
     "output_type": "stream",
     "text": [
      "4\n",
      "300\n"
     ]
    },
    {
     "ename": "TypeError",
     "evalue": "diff() missing 1 required positional argument: 'n2'",
     "output_type": "error",
     "traceback": [
      "\u001b[0;31m---------------------------------------------------------------------------\u001b[0m",
      "\u001b[0;31mTypeError\u001b[0m                                 Traceback (most recent call last)",
      "\u001b[0;32m/tmp/ipykernel_6644/3387909263.py\u001b[0m in \u001b[0;36m<module>\u001b[0;34m\u001b[0m\n\u001b[1;32m     10\u001b[0m \u001b[0;34m\u001b[0m\u001b[0m\n\u001b[1;32m     11\u001b[0m \u001b[0;32mif\u001b[0m \u001b[0m__name__\u001b[0m \u001b[0;34m==\u001b[0m \u001b[0;34m'__main__'\u001b[0m\u001b[0;34m:\u001b[0m\u001b[0;34m\u001b[0m\u001b[0;34m\u001b[0m\u001b[0m\n\u001b[0;32m---> 12\u001b[0;31m     \u001b[0mmain\u001b[0m\u001b[0;34m(\u001b[0m\u001b[0;34m)\u001b[0m\u001b[0;34m\u001b[0m\u001b[0;34m\u001b[0m\u001b[0m\n\u001b[0m",
      "\u001b[0;32m/tmp/ipykernel_6644/3387909263.py\u001b[0m in \u001b[0;36mmain\u001b[0;34m()\u001b[0m\n\u001b[1;32m      7\u001b[0m     \u001b[0mprint\u001b[0m\u001b[0;34m(\u001b[0m\u001b[0mdiff\u001b[0m\u001b[0;34m(\u001b[0m\u001b[0;36m1\u001b[0m\u001b[0;34m,\u001b[0m\u001b[0;36m2\u001b[0m\u001b[0;34m,\u001b[0m\u001b[0;36m3\u001b[0m\u001b[0;34m,\u001b[0m\u001b[0;36m4\u001b[0m\u001b[0;34m,\u001b[0m\u001b[0;36m5\u001b[0m\u001b[0;34m)\u001b[0m\u001b[0;34m)\u001b[0m\u001b[0;34m\u001b[0m\u001b[0;34m\u001b[0m\u001b[0m\n\u001b[1;32m      8\u001b[0m     \u001b[0mprint\u001b[0m\u001b[0;34m(\u001b[0m\u001b[0mdiff\u001b[0m\u001b[0;34m(\u001b[0m\u001b[0;34m-\u001b[0m\u001b[0;36m100\u001b[0m\u001b[0;34m,\u001b[0m\u001b[0;36m200\u001b[0m\u001b[0;34m)\u001b[0m\u001b[0;34m)\u001b[0m\u001b[0;34m\u001b[0m\u001b[0;34m\u001b[0m\u001b[0m\n\u001b[0;32m----> 9\u001b[0;31m     \u001b[0mprint\u001b[0m\u001b[0;34m(\u001b[0m\u001b[0mdiff\u001b[0m\u001b[0;34m(\u001b[0m\u001b[0;36m1\u001b[0m\u001b[0;34m)\u001b[0m\u001b[0;34m)\u001b[0m\u001b[0;34m\u001b[0m\u001b[0;34m\u001b[0m\u001b[0m\n\u001b[0m\u001b[1;32m     10\u001b[0m \u001b[0;34m\u001b[0m\u001b[0m\n\u001b[1;32m     11\u001b[0m \u001b[0;32mif\u001b[0m \u001b[0m__name__\u001b[0m \u001b[0;34m==\u001b[0m \u001b[0;34m'__main__'\u001b[0m\u001b[0;34m:\u001b[0m\u001b[0;34m\u001b[0m\u001b[0;34m\u001b[0m\u001b[0m\n",
      "\u001b[0;31mTypeError\u001b[0m: diff() missing 1 required positional argument: 'n2'"
     ]
    }
   ],
   "source": [
    "#HW5-9 최대, 최소 차이 반환\n",
    "def diff(n1, n2, *n3):\n",
    "    L = [n1, n2] + [n for n in n3]\n",
    "    return max(L) - min(L)\n",
    "    \n",
    "def main():\n",
    "    print(diff(1,2,3,4,5))\n",
    "    print(diff(-100,200))\n",
    "    print(diff(1))\n",
    "\n",
    "if __name__ == '__main__':\n",
    "    main()"
   ]
  }
 ],
 "metadata": {
  "kernelspec": {
   "display_name": "Python 3 (ipykernel)",
   "language": "python",
   "name": "python3"
  },
  "language_info": {
   "codemirror_mode": {
    "name": "ipython",
    "version": 3
   },
   "file_extension": ".py",
   "mimetype": "text/x-python",
   "name": "python",
   "nbconvert_exporter": "python",
   "pygments_lexer": "ipython3",
   "version": "3.9.7"
  }
 },
 "nbformat": 4,
 "nbformat_minor": 5
}
