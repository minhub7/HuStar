{
 "cells": [
  {
   "cell_type": "code",
   "execution_count": 47,
   "id": "3be9c2e9",
   "metadata": {},
   "outputs": [
    {
     "name": "stdout",
     "output_type": "stream",
     "text": [
      "Enter a number: 14\n",
      "14 is Even number\n"
     ]
    }
   ],
   "source": [
    "#LAB02-1 홀짝 판별\n",
    "\n",
    "num = int(input(\"Enter a number: \"))\n",
    "if num%2 == 0:\n",
    "    print(f\"{num} is Even number\")\n",
    "else:\n",
    "    print(f\"{num} is Odd number\")"
   ]
  },
  {
   "cell_type": "code",
   "execution_count": 50,
   "id": "6ddf0ca1",
   "metadata": {
    "scrolled": true
   },
   "outputs": [
    {
     "name": "stdout",
     "output_type": "stream",
     "text": [
      "Enter your midterm score: 77\n",
      "Enter your final score: 56\n",
      "Average: 66.5\n",
      "Grade: D\n"
     ]
    }
   ],
   "source": [
    "#LAB02-2 중간, 기말 평균 학점 프로그램\n",
    "\n",
    "mid_score = float(input(\"Enter your midterm score: \"))\n",
    "final_score = float(input(\"Enter your final score: \"))\n",
    "average = (mid_score + final_score)/2\n",
    "\n",
    "if average >= 90:\n",
    "    print(f\"Average: {average}\")\n",
    "    print(\"Grade: A\")\n",
    "elif average >= 80:\n",
    "    print(f\"Average: {average}\")\n",
    "    print(\"Grade: B\")\n",
    "elif average >= 70:\n",
    "    print(f\"Average: {average}\")\n",
    "    print(\"Grade: C\")\n",
    "elif average >= 60:\n",
    "    print(f\"Average: {average}\")\n",
    "    print(\"Grade: D\")\n",
    "else:\n",
    "    print(f\"Average: {average}\")\n",
    "    print(\"Grade: F\")"
   ]
  },
  {
   "cell_type": "code",
   "execution_count": 56,
   "id": "4b98863e",
   "metadata": {},
   "outputs": [
    {
     "name": "stdout",
     "output_type": "stream",
     "text": [
      "영어 점수: 35\n",
      "수학 점수: 95\n",
      "불합격: 영어 점수 부족\n"
     ]
    }
   ],
   "source": [
    "#LAB02-3 합격 여부 출력\n",
    "\n",
    "eng = int(input(\"영어 점수: \"))\n",
    "math = int(input(\"수학 점수: \"))\n",
    "\n",
    "if eng + math >= 110:\n",
    "    if eng < 40:\n",
    "        print(\"불합격: 영어 점수 부족\")\n",
    "    elif math < 40:\n",
    "        print(\"불합격: 수학 점수 부족\")\n",
    "    else:\n",
    "        print(\"합격\")\n",
    "else:\n",
    "    print(\"불합격: 총합 점수 부족\")"
   ]
  },
  {
   "cell_type": "code",
   "execution_count": 29,
   "id": "15886089",
   "metadata": {},
   "outputs": [
    {
     "name": "stdout",
     "output_type": "stream",
     "text": [
      "세 수를 입력하시오: 30 22 50\n",
      "가장 큰 수는 50입니다.\n"
     ]
    }
   ],
   "source": [
    "#LAB02-4 세 정수 중 가장 큰 수 출력\n",
    "\n",
    "num_list = list(map(int, input(\"세 수를 입력하시오: \").split()))\n",
    "max_value = 0\n",
    "\n",
    "if num_list[0] > num_list[1]:\n",
    "    if num_list[0] > num_list[2]:\n",
    "        max_value = num_list[0]\n",
    "    else:\n",
    "        max_value = num_list[2]\n",
    "else:\n",
    "    if num_list[1] > num_list[2]:\n",
    "        max_value = num_list[1]\n",
    "    else:\n",
    "        max_value = num_list[2]\n",
    "\n",
    "print(f\"가장 큰 수는 {max_value}입니다.\")"
   ]
  },
  {
   "cell_type": "code",
   "execution_count": 57,
   "id": "7b91a567",
   "metadata": {},
   "outputs": [
    {
     "name": "stdout",
     "output_type": "stream",
     "text": [
      "P\n",
      "y\n",
      "t\n",
      "h\n",
      "o\n",
      "n\n"
     ]
    }
   ],
   "source": [
    "#LAB02-5 단어 출력\n",
    "\n",
    "word = 'Python'\n",
    "for w in word:\n",
    "    print(w)"
   ]
  },
  {
   "cell_type": "code",
   "execution_count": 58,
   "id": "ee9a315c",
   "metadata": {},
   "outputs": [
    {
     "name": "stdout",
     "output_type": "stream",
     "text": [
      "10,9,8,7,6,5,4,3,2,1,Happy new year!!\n"
     ]
    }
   ],
   "source": [
    "#LAB02-6\n",
    "\n",
    "for i in range(10,0,-1):\n",
    "    print(i, end=',')\n",
    "\n",
    "print(\"Happy new year!!\")"
   ]
  },
  {
   "cell_type": "code",
   "execution_count": 59,
   "id": "3f067183",
   "metadata": {},
   "outputs": [
    {
     "name": "stdout",
     "output_type": "stream",
     "text": [
      "Enter two integers: 5 10\n",
      "The sum from 5 to 10 is 45\n"
     ]
    }
   ],
   "source": [
    "#LAB02-7 a부터 b까지 합\n",
    "\n",
    "a, b = map(int, input(\"Enter two integers: \").split())\n",
    "total = 0\n",
    "\n",
    "for i in range(a,b+1):\n",
    "    total += i\n",
    "\n",
    "print(f\"The sum from {a} to {b} is {total}\")"
   ]
  },
  {
   "cell_type": "code",
   "execution_count": 60,
   "id": "0c2ed343",
   "metadata": {},
   "outputs": [
    {
     "name": "stdout",
     "output_type": "stream",
     "text": [
      "count A in word: 3\n"
     ]
    }
   ],
   "source": [
    "#LAB02-8 a 카운트\n",
    "\n",
    "word = 'banana'\n",
    "cnt = 0\n",
    "for w in word:\n",
    "    if w == 'a':\n",
    "        cnt += 1\n",
    "\n",
    "print(f\"count A in word: {cnt}\")"
   ]
  },
  {
   "cell_type": "code",
   "execution_count": 62,
   "id": "0a152d86",
   "metadata": {},
   "outputs": [
    {
     "name": "stdout",
     "output_type": "stream",
     "text": [
      "0 1 2 3 4 5 6 7 8 9 \n",
      "0 5 10 15 20 25 30 35 40 45 50 \n",
      "10 9 8 7 6 5 4 3 2 1 "
     ]
    }
   ],
   "source": [
    "#LAB02-9 for, range\n",
    "\n",
    "for i in range(10):\n",
    "    print(i, end=' ')\n",
    "print()\n",
    "for i in range(0,51,5):\n",
    "    print(i, end=' ')\n",
    "print()\n",
    "for i in range(10,0,-1):\n",
    "    print(i, end=' ')\n"
   ]
  },
  {
   "cell_type": "code",
   "execution_count": 63,
   "id": "430d81dc",
   "metadata": {},
   "outputs": [
    {
     "name": "stdout",
     "output_type": "stream",
     "text": [
      "red\n",
      "green\n",
      "blue\n"
     ]
    }
   ],
   "source": [
    "#LAB02-10 list 출력\n",
    "colors = ['red','green','blue']\n",
    "\n",
    "for c in colors:\n",
    "    print(c)"
   ]
  },
  {
   "cell_type": "code",
   "execution_count": 66,
   "id": "fa3b36f9",
   "metadata": {},
   "outputs": [
    {
     "name": "stdout",
     "output_type": "stream",
     "text": [
      "4 6 8 10 12 "
     ]
    }
   ],
   "source": [
    "#LAB02-11 짝수 출력\n",
    "\n",
    "a = [1,3,4,5,6,7,8,9,10,11,12,13]\n",
    "\n",
    "for i in a:\n",
    "    if i%2 == 0:\n",
    "        print(i, end=' ')"
   ]
  },
  {
   "cell_type": "code",
   "execution_count": 71,
   "id": "e55b5884",
   "metadata": {},
   "outputs": [
    {
     "name": "stdout",
     "output_type": "stream",
     "text": [
      "출력하고 싶은 단을 입력하세요: 7\n",
      "7 * 1 = 7\n",
      "7 * 2 = 14\n",
      "7 * 3 = 21\n",
      "7 * 4 = 28\n",
      "7 * 5 = 35\n",
      "7 * 6 = 42\n",
      "7 * 7 = 49\n",
      "7 * 8 = 56\n",
      "7 * 9 = 63\n"
     ]
    }
   ],
   "source": [
    "#LAB02-12 구구단 출력\n",
    "\n",
    "n = int(input(\"출력하고 싶은 단을 입력하세요: \"))\n",
    "for i in range(1,10):\n",
    "    print(f\"{n} * {i} = {n*i}\")"
   ]
  },
  {
   "cell_type": "code",
   "execution_count": 72,
   "id": "17267676",
   "metadata": {},
   "outputs": [
    {
     "name": "stdout",
     "output_type": "stream",
     "text": [
      "== 2단 ==\n",
      "2 * 1 = 2\n",
      "2 * 2 = 4\n",
      "2 * 3 = 6\n",
      "2 * 4 = 8\n",
      "2 * 5 = 10\n",
      "2 * 6 = 12\n",
      "2 * 7 = 14\n",
      "2 * 8 = 16\n",
      "2 * 9 = 18\n",
      "== 3단 ==\n",
      "3 * 1 = 3\n",
      "3 * 2 = 6\n",
      "3 * 3 = 9\n",
      "3 * 4 = 12\n",
      "3 * 5 = 15\n",
      "3 * 6 = 18\n",
      "3 * 7 = 21\n",
      "3 * 8 = 24\n",
      "3 * 9 = 27\n",
      "== 4단 ==\n",
      "4 * 1 = 4\n",
      "4 * 2 = 8\n",
      "4 * 3 = 12\n",
      "4 * 4 = 16\n",
      "4 * 5 = 20\n",
      "4 * 6 = 24\n",
      "4 * 7 = 28\n",
      "4 * 8 = 32\n",
      "4 * 9 = 36\n",
      "== 5단 ==\n",
      "5 * 1 = 5\n",
      "5 * 2 = 10\n",
      "5 * 3 = 15\n",
      "5 * 4 = 20\n",
      "5 * 5 = 25\n",
      "5 * 6 = 30\n",
      "5 * 7 = 35\n",
      "5 * 8 = 40\n",
      "5 * 9 = 45\n",
      "== 6단 ==\n",
      "6 * 1 = 6\n",
      "6 * 2 = 12\n",
      "6 * 3 = 18\n",
      "6 * 4 = 24\n",
      "6 * 5 = 30\n",
      "6 * 6 = 36\n",
      "6 * 7 = 42\n",
      "6 * 8 = 48\n",
      "6 * 9 = 54\n",
      "== 7단 ==\n",
      "7 * 1 = 7\n",
      "7 * 2 = 14\n",
      "7 * 3 = 21\n",
      "7 * 4 = 28\n",
      "7 * 5 = 35\n",
      "7 * 6 = 42\n",
      "7 * 7 = 49\n",
      "7 * 8 = 56\n",
      "7 * 9 = 63\n",
      "== 8단 ==\n",
      "8 * 1 = 8\n",
      "8 * 2 = 16\n",
      "8 * 3 = 24\n",
      "8 * 4 = 32\n",
      "8 * 5 = 40\n",
      "8 * 6 = 48\n",
      "8 * 7 = 56\n",
      "8 * 8 = 64\n",
      "8 * 9 = 72\n",
      "== 9단 ==\n",
      "9 * 1 = 9\n",
      "9 * 2 = 18\n",
      "9 * 3 = 27\n",
      "9 * 4 = 36\n",
      "9 * 5 = 45\n",
      "9 * 6 = 54\n",
      "9 * 7 = 63\n",
      "9 * 8 = 72\n",
      "9 * 9 = 81\n"
     ]
    }
   ],
   "source": [
    "#LAB02-13 구구단 출력\n",
    "\n",
    "for i in range(2,10):\n",
    "    print(f\"== {i}단 ==\")\n",
    "    for j in range(1,10):\n",
    "        print(f\"{i} * {j} = {i*j}\")"
   ]
  },
  {
   "cell_type": "code",
   "execution_count": 82,
   "id": "3c71b932",
   "metadata": {},
   "outputs": [
    {
     "name": "stdout",
     "output_type": "stream",
     "text": [
      "2*1= 2  3*1= 3  4*1= 4  5*1= 5  6*1= 6  7*1= 7  8*1= 8  9*1= 9  \n",
      "2*2= 4  3*2= 6  4*2= 8  5*2=10  6*2=12  7*2=14  8*2=16  9*2=18  \n",
      "2*3= 6  3*3= 9  4*3=12  5*3=15  6*3=18  7*3=21  8*3=24  9*3=27  \n",
      "2*4= 8  3*4=12  4*4=16  5*4=20  6*4=24  7*4=28  8*4=32  9*4=36  \n",
      "2*5=10  3*5=15  4*5=20  5*5=25  6*5=30  7*5=35  8*5=40  9*5=45  \n",
      "2*6=12  3*6=18  4*6=24  5*6=30  6*6=36  7*6=42  8*6=48  9*6=54  \n",
      "2*7=14  3*7=21  4*7=28  5*7=35  6*7=42  7*7=49  8*7=56  9*7=63  \n",
      "2*8=16  3*8=24  4*8=32  5*8=40  6*8=48  7*8=56  8*8=64  9*8=72  \n",
      "2*9=18  3*9=27  4*9=36  5*9=45  6*9=54  7*9=63  8*9=72  9*9=81  \n"
     ]
    }
   ],
   "source": [
    "#LAB02-14 구구단 출력 2\n",
    "\n",
    "for i in range(1,10):\n",
    "    for j in range(2,10):\n",
    "        print(f\"{j}*{i}={i*j:2}\", end='  ')\n",
    "    print()"
   ]
  },
  {
   "cell_type": "code",
   "execution_count": 6,
   "id": "2cec59db",
   "metadata": {},
   "outputs": [
    {
     "name": "stdout",
     "output_type": "stream",
     "text": [
      "Input an integer: 223411\n",
      "★★\n",
      "★★\n",
      "★★★\n",
      "★★★★\n",
      "★\n",
      "★\n"
     ]
    }
   ],
   "source": [
    "#LAB02-15 별표 출력\n",
    "\n",
    "num_list = input(\"Input an integer: \")\n",
    "\n",
    "for i in num_list:\n",
    "    print(\"★\"*int(i))"
   ]
  },
  {
   "cell_type": "code",
   "execution_count": 45,
   "id": "ebd2aaaa",
   "metadata": {},
   "outputs": [
    {
     "name": "stdout",
     "output_type": "stream",
     "text": [
      "Enter a number: 7\n",
      "Enter a number: 2\n",
      "Enter a number: 9\n",
      "Enter a number: 3\n",
      "Enter a number: 5\n",
      "Enter a number: done\n",
      "Average: 5.2\n",
      "Maximum: 9.0\n",
      "Minimum: 2.0\n"
     ]
    }
   ],
   "source": [
    "#LAB02-16 평균, 최대, 최소 출력\n",
    "L_num = []\n",
    "\n",
    "while True:\n",
    "    n = input(\"Enter a number: \")\n",
    "    if n == 'done':\n",
    "        break\n",
    "    \n",
    "    L_num.append(float(n))\n",
    "\n",
    "print(f\"Average: {sum(L_num)/len(L_num)}\")\n",
    "print(f\"Maximum: {max(L_num)}\")\n",
    "print(f\"Minimum: {min(L_num)}\")"
   ]
  }
 ],
 "metadata": {
  "kernelspec": {
   "display_name": "Python 3 (ipykernel)",
   "language": "python",
   "name": "python3"
  },
  "language_info": {
   "codemirror_mode": {
    "name": "ipython",
    "version": 3
   },
   "file_extension": ".py",
   "mimetype": "text/x-python",
   "name": "python",
   "nbconvert_exporter": "python",
   "pygments_lexer": "ipython3",
   "version": "3.9.7"
  }
 },
 "nbformat": 4,
 "nbformat_minor": 5
}
