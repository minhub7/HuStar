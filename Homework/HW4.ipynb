{
 "cells": [
  {
   "cell_type": "code",
   "execution_count": 25,
   "id": "72ba4925",
   "metadata": {
    "scrolled": true
   },
   "outputs": [
    {
     "name": "stdout",
     "output_type": "stream",
     "text": [
      "line 3\n",
      "third 1\n",
      "second 1\n",
      "first 1\n"
     ]
    }
   ],
   "source": [
    "#HW4-1 파일에 있는 단어 수 구하기\n",
    "L = []\n",
    "d = dict()\n",
    "\n",
    "with open('test.txt', 'r') as fr:\n",
    "    for line in fr:\n",
    "        data = line.split()\n",
    "        L.extend(data)\n",
    "\n",
    "for s in set(L):\n",
    "    d[s] = L.count(s)\n",
    "    print(s, d[s])"
   ]
  },
  {
   "cell_type": "code",
   "execution_count": 19,
   "id": "1d5410a5",
   "metadata": {
    "scrolled": false
   },
   "outputs": [
    {
     "name": "stdout",
     "output_type": "stream",
     "text": [
      "Enter a file name: test.txt\n",
      "FIRST LINE\n",
      "SECOND LINE\n",
      "THIRD LINE"
     ]
    }
   ],
   "source": [
    "#HW4-2 대문자 출력\n",
    "import os\n",
    "fname = input(\"Enter a file name: \")\n",
    "\n",
    "if os.path.exists(fname):\n",
    "    with open(fname, 'r') as fr:\n",
    "        for line in fr:\n",
    "            print(line.upper(), end='')\n",
    "else:\n",
    "    print(\"Error!!: 파일이 존재하지 않습니다\")"
   ]
  },
  {
   "cell_type": "code",
   "execution_count": 30,
   "id": "9bdd9a74",
   "metadata": {
    "scrolled": true
   },
   "outputs": [],
   "source": [
    "#HW4-4 성적 처리 프로그램\n",
    "\n",
    "def grade_calculator(mid, final):\n",
    "    grade = int(mid)*0.4 + int(final)*0.6\n",
    "    if grade > 90:\n",
    "        return f' {grade}(A)\\n'\n",
    "    elif grade > 80:\n",
    "        return f' {grade}(B)\\n'\n",
    "    elif grade > 70:\n",
    "        return f' {grade}(C)\\n'\n",
    "    elif grade > 60:\n",
    "        return f' {grade}(D)\\n'\n",
    "    else:\n",
    "        return f' {grade}(F)\\n'\n",
    "\n",
    "with open('score.txt', 'r') as fr:\n",
    "    with open('report.txt', 'w') as fw:\n",
    "        for line in fr:\n",
    "            s_ID, mid, final = map(int, line.split())\n",
    "            fw.write(f'{s_ID} {mid} {final}' + grade_calculator(mid, final))"
   ]
  },
  {
   "cell_type": "code",
   "execution_count": 31,
   "id": "b8076037",
   "metadata": {},
   "outputs": [
    {
     "name": "stdout",
     "output_type": "stream",
     "text": [
      "6\n",
      "14\n"
     ]
    }
   ],
   "source": [
    "#HW5-1 my_len 함수 구현\n",
    "def my_len(src):\n",
    "    length = 0\n",
    "    for _ in src:\n",
    "        length += 1\n",
    "    return length\n",
    "\n",
    "a = [5,5,6,5,3,2]\n",
    "b = 'Life is short.'\n",
    "print(my_len(a))\n",
    "print(my_len(b))"
   ]
  },
  {
   "cell_type": "code",
   "execution_count": 33,
   "id": "d52f1375",
   "metadata": {
    "scrolled": true
   },
   "outputs": [
    {
     "name": "stdout",
     "output_type": "stream",
     "text": [
      "6\n",
      "120\n"
     ]
    }
   ],
   "source": [
    "#HW5-2 a부터 b까지 곱하는 mult 함수\n",
    "def mult(a, b):\n",
    "    res = 1\n",
    "    for i in range(a, b+1):\n",
    "        res *= i\n",
    "    return res\n",
    "\n",
    "print(mult(1,3))\n",
    "print(mult(2,5))"
   ]
  },
  {
   "cell_type": "code",
   "execution_count": 35,
   "id": "9d7c8d7e",
   "metadata": {},
   "outputs": [
    {
     "name": "stdout",
     "output_type": "stream",
     "text": [
      "7 -9\n",
      "1 -1\n"
     ]
    }
   ],
   "source": [
    "#HW5-3 양수, 음수 따로 더하기 함수\n",
    "def sum_pos_neg(L):\n",
    "    sum_pos, sum_neg = 0, 0\n",
    "    for n in L:\n",
    "        if n > 0:\n",
    "            sum_pos += n\n",
    "        else:\n",
    "            sum_neg += n\n",
    "    \n",
    "    return sum_pos, sum_neg\n",
    "\n",
    "\n",
    "possum, negsum = sum_pos_neg([3,4,-6,-3])\n",
    "mylist = [0,0,0,0,0,0,0,0,0,1,-1]\n",
    "possum2, negsum2 = sum_pos_neg(mylist)\n",
    "print(possum, negsum)\n",
    "print(possum2, negsum2)"
   ]
  }
 ],
 "metadata": {
  "kernelspec": {
   "display_name": "Python 3 (ipykernel)",
   "language": "python",
   "name": "python3"
  },
  "language_info": {
   "codemirror_mode": {
    "name": "ipython",
    "version": 3
   },
   "file_extension": ".py",
   "mimetype": "text/x-python",
   "name": "python",
   "nbconvert_exporter": "python",
   "pygments_lexer": "ipython3",
   "version": "3.9.7"
  }
 },
 "nbformat": 4,
 "nbformat_minor": 5
}
