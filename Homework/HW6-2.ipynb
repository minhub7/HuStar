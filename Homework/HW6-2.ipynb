{
 "cells": [
  {
   "cell_type": "code",
   "execution_count": 44,
   "metadata": {
    "scrolled": true
   },
   "outputs": [
    {
     "name": "stdout",
     "output_type": "stream",
     "text": [
      "잔액이 부족합니다.\n",
      "Name: Gildong Hong\n",
      "잔고: 500\n",
      "\n",
      "Name: Kim Minho\n",
      "잔고: 100\n"
     ]
    }
   ],
   "source": [
    "#HW6-1 BankAccount Create\n",
    "class BankAccount:\n",
    "    def __init__(self, blc=0, name='None'):\n",
    "        self.balance = blc\n",
    "        self.name = name\n",
    "    \n",
    "    def deposit(self, amount):\n",
    "        self.balance += amount\n",
    "        \n",
    "    def withdraw(self, amount):\n",
    "        if self.balance < amount:\n",
    "            print(\"잔액이 부족합니다.\")\n",
    "        else:\n",
    "            self.balance -= amount\n",
    "        \n",
    "    def get_info(self):\n",
    "        print(f\"Name: {self.name}\")\n",
    "        print(f\"잔고: {self.balance}\")\n",
    "        \n",
    "\n",
    "def mainBankAccount():\n",
    "    a = BankAccount(100, \"Gildong Hong\")\n",
    "    b = BankAccount(name='Kim Minho')\n",
    "    \n",
    "    a.deposit(400)\n",
    "    a.withdraw(600)\n",
    "    a.get_info()\n",
    "    print()\n",
    "    \n",
    "    b.deposit(1000)\n",
    "    b.withdraw(900)\n",
    "    b.get_info()\n",
    "    \n",
    "mainBankAccount()"
   ]
  }
 ],
 "metadata": {
  "kernelspec": {
   "display_name": "Python 3",
   "language": "python",
   "name": "python3"
  },
  "language_info": {
   "codemirror_mode": {
    "name": "ipython",
    "version": 3
   },
   "file_extension": ".py",
   "mimetype": "text/x-python",
   "name": "python",
   "nbconvert_exporter": "python",
   "pygments_lexer": "ipython3",
   "version": "3.8.5"
  }
 },
 "nbformat": 4,
 "nbformat_minor": 5
}
